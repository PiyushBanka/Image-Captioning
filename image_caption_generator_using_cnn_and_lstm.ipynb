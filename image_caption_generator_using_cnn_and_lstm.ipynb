{
  "metadata": {
    "kernelspec": {
      "display_name": "Python 3",
      "name": "python3"
    },
    "language_info": {
      "pygments_lexer": "ipython3",
      "nbconvert_exporter": "python",
      "version": "3.6.4",
      "file_extension": ".py",
      "codemirror_mode": {
        "name": "ipython",
        "version": 3
      },
      "name": "python",
      "mimetype": "text/x-python"
    },
    "colab": {
      "provenance": [],
      "gpuType": "T4"
    },
    "accelerator": "GPU",
    "widgets": {
      "application/vnd.jupyter.widget-state+json": {
        "09aa0b65056648d8af190b26de3ddd5f": {
          "model_module": "@jupyter-widgets/controls",
          "model_name": "HBoxModel",
          "model_module_version": "1.5.0",
          "state": {
            "_dom_classes": [],
            "_model_module": "@jupyter-widgets/controls",
            "_model_module_version": "1.5.0",
            "_model_name": "HBoxModel",
            "_view_count": null,
            "_view_module": "@jupyter-widgets/controls",
            "_view_module_version": "1.5.0",
            "_view_name": "HBoxView",
            "box_style": "",
            "children": [
              "IPY_MODEL_877cc4dd34a04083a67fec0033489351",
              "IPY_MODEL_65bf0fd955704f6b84ae6bc440463ffd",
              "IPY_MODEL_316a489d84ef4b8d90b4265f09705b23"
            ],
            "layout": "IPY_MODEL_35b12ec6830a4d7fb1a13b6286745b7a"
          }
        },
        "877cc4dd34a04083a67fec0033489351": {
          "model_module": "@jupyter-widgets/controls",
          "model_name": "HTMLModel",
          "model_module_version": "1.5.0",
          "state": {
            "_dom_classes": [],
            "_model_module": "@jupyter-widgets/controls",
            "_model_module_version": "1.5.0",
            "_model_name": "HTMLModel",
            "_view_count": null,
            "_view_module": "@jupyter-widgets/controls",
            "_view_module_version": "1.5.0",
            "_view_name": "HTMLView",
            "description": "",
            "description_tooltip": null,
            "layout": "IPY_MODEL_105d420c8a5044a4ae60f3e7069552e4",
            "placeholder": "​",
            "style": "IPY_MODEL_60eb1d039822409bbd7ec6dd93108d28",
            "value": "100%"
          }
        },
        "65bf0fd955704f6b84ae6bc440463ffd": {
          "model_module": "@jupyter-widgets/controls",
          "model_name": "FloatProgressModel",
          "model_module_version": "1.5.0",
          "state": {
            "_dom_classes": [],
            "_model_module": "@jupyter-widgets/controls",
            "_model_module_version": "1.5.0",
            "_model_name": "FloatProgressModel",
            "_view_count": null,
            "_view_module": "@jupyter-widgets/controls",
            "_view_module_version": "1.5.0",
            "_view_name": "ProgressView",
            "bar_style": "success",
            "description": "",
            "description_tooltip": null,
            "layout": "IPY_MODEL_a628f87691e5496f929fabceb5158e99",
            "max": 8091,
            "min": 0,
            "orientation": "horizontal",
            "style": "IPY_MODEL_fdbbdefd4d664f7fae1d6463b4990e06",
            "value": 8091
          }
        },
        "316a489d84ef4b8d90b4265f09705b23": {
          "model_module": "@jupyter-widgets/controls",
          "model_name": "HTMLModel",
          "model_module_version": "1.5.0",
          "state": {
            "_dom_classes": [],
            "_model_module": "@jupyter-widgets/controls",
            "_model_module_version": "1.5.0",
            "_model_name": "HTMLModel",
            "_view_count": null,
            "_view_module": "@jupyter-widgets/controls",
            "_view_module_version": "1.5.0",
            "_view_name": "HTMLView",
            "description": "",
            "description_tooltip": null,
            "layout": "IPY_MODEL_e63491d4266b46d096e70f3cd9629666",
            "placeholder": "​",
            "style": "IPY_MODEL_75a1c04145484dbebc622ce3fed31929",
            "value": " 8091/8091 [10:02&lt;00:00, 15.06it/s]"
          }
        },
        "35b12ec6830a4d7fb1a13b6286745b7a": {
          "model_module": "@jupyter-widgets/base",
          "model_name": "LayoutModel",
          "model_module_version": "1.2.0",
          "state": {
            "_model_module": "@jupyter-widgets/base",
            "_model_module_version": "1.2.0",
            "_model_name": "LayoutModel",
            "_view_count": null,
            "_view_module": "@jupyter-widgets/base",
            "_view_module_version": "1.2.0",
            "_view_name": "LayoutView",
            "align_content": null,
            "align_items": null,
            "align_self": null,
            "border": null,
            "bottom": null,
            "display": null,
            "flex": null,
            "flex_flow": null,
            "grid_area": null,
            "grid_auto_columns": null,
            "grid_auto_flow": null,
            "grid_auto_rows": null,
            "grid_column": null,
            "grid_gap": null,
            "grid_row": null,
            "grid_template_areas": null,
            "grid_template_columns": null,
            "grid_template_rows": null,
            "height": null,
            "justify_content": null,
            "justify_items": null,
            "left": null,
            "margin": null,
            "max_height": null,
            "max_width": null,
            "min_height": null,
            "min_width": null,
            "object_fit": null,
            "object_position": null,
            "order": null,
            "overflow": null,
            "overflow_x": null,
            "overflow_y": null,
            "padding": null,
            "right": null,
            "top": null,
            "visibility": null,
            "width": null
          }
        },
        "105d420c8a5044a4ae60f3e7069552e4": {
          "model_module": "@jupyter-widgets/base",
          "model_name": "LayoutModel",
          "model_module_version": "1.2.0",
          "state": {
            "_model_module": "@jupyter-widgets/base",
            "_model_module_version": "1.2.0",
            "_model_name": "LayoutModel",
            "_view_count": null,
            "_view_module": "@jupyter-widgets/base",
            "_view_module_version": "1.2.0",
            "_view_name": "LayoutView",
            "align_content": null,
            "align_items": null,
            "align_self": null,
            "border": null,
            "bottom": null,
            "display": null,
            "flex": null,
            "flex_flow": null,
            "grid_area": null,
            "grid_auto_columns": null,
            "grid_auto_flow": null,
            "grid_auto_rows": null,
            "grid_column": null,
            "grid_gap": null,
            "grid_row": null,
            "grid_template_areas": null,
            "grid_template_columns": null,
            "grid_template_rows": null,
            "height": null,
            "justify_content": null,
            "justify_items": null,
            "left": null,
            "margin": null,
            "max_height": null,
            "max_width": null,
            "min_height": null,
            "min_width": null,
            "object_fit": null,
            "object_position": null,
            "order": null,
            "overflow": null,
            "overflow_x": null,
            "overflow_y": null,
            "padding": null,
            "right": null,
            "top": null,
            "visibility": null,
            "width": null
          }
        },
        "60eb1d039822409bbd7ec6dd93108d28": {
          "model_module": "@jupyter-widgets/controls",
          "model_name": "DescriptionStyleModel",
          "model_module_version": "1.5.0",
          "state": {
            "_model_module": "@jupyter-widgets/controls",
            "_model_module_version": "1.5.0",
            "_model_name": "DescriptionStyleModel",
            "_view_count": null,
            "_view_module": "@jupyter-widgets/base",
            "_view_module_version": "1.2.0",
            "_view_name": "StyleView",
            "description_width": ""
          }
        },
        "a628f87691e5496f929fabceb5158e99": {
          "model_module": "@jupyter-widgets/base",
          "model_name": "LayoutModel",
          "model_module_version": "1.2.0",
          "state": {
            "_model_module": "@jupyter-widgets/base",
            "_model_module_version": "1.2.0",
            "_model_name": "LayoutModel",
            "_view_count": null,
            "_view_module": "@jupyter-widgets/base",
            "_view_module_version": "1.2.0",
            "_view_name": "LayoutView",
            "align_content": null,
            "align_items": null,
            "align_self": null,
            "border": null,
            "bottom": null,
            "display": null,
            "flex": null,
            "flex_flow": null,
            "grid_area": null,
            "grid_auto_columns": null,
            "grid_auto_flow": null,
            "grid_auto_rows": null,
            "grid_column": null,
            "grid_gap": null,
            "grid_row": null,
            "grid_template_areas": null,
            "grid_template_columns": null,
            "grid_template_rows": null,
            "height": null,
            "justify_content": null,
            "justify_items": null,
            "left": null,
            "margin": null,
            "max_height": null,
            "max_width": null,
            "min_height": null,
            "min_width": null,
            "object_fit": null,
            "object_position": null,
            "order": null,
            "overflow": null,
            "overflow_x": null,
            "overflow_y": null,
            "padding": null,
            "right": null,
            "top": null,
            "visibility": null,
            "width": null
          }
        },
        "fdbbdefd4d664f7fae1d6463b4990e06": {
          "model_module": "@jupyter-widgets/controls",
          "model_name": "ProgressStyleModel",
          "model_module_version": "1.5.0",
          "state": {
            "_model_module": "@jupyter-widgets/controls",
            "_model_module_version": "1.5.0",
            "_model_name": "ProgressStyleModel",
            "_view_count": null,
            "_view_module": "@jupyter-widgets/base",
            "_view_module_version": "1.2.0",
            "_view_name": "StyleView",
            "bar_color": null,
            "description_width": ""
          }
        },
        "e63491d4266b46d096e70f3cd9629666": {
          "model_module": "@jupyter-widgets/base",
          "model_name": "LayoutModel",
          "model_module_version": "1.2.0",
          "state": {
            "_model_module": "@jupyter-widgets/base",
            "_model_module_version": "1.2.0",
            "_model_name": "LayoutModel",
            "_view_count": null,
            "_view_module": "@jupyter-widgets/base",
            "_view_module_version": "1.2.0",
            "_view_name": "LayoutView",
            "align_content": null,
            "align_items": null,
            "align_self": null,
            "border": null,
            "bottom": null,
            "display": null,
            "flex": null,
            "flex_flow": null,
            "grid_area": null,
            "grid_auto_columns": null,
            "grid_auto_flow": null,
            "grid_auto_rows": null,
            "grid_column": null,
            "grid_gap": null,
            "grid_row": null,
            "grid_template_areas": null,
            "grid_template_columns": null,
            "grid_template_rows": null,
            "height": null,
            "justify_content": null,
            "justify_items": null,
            "left": null,
            "margin": null,
            "max_height": null,
            "max_width": null,
            "min_height": null,
            "min_width": null,
            "object_fit": null,
            "object_position": null,
            "order": null,
            "overflow": null,
            "overflow_x": null,
            "overflow_y": null,
            "padding": null,
            "right": null,
            "top": null,
            "visibility": null,
            "width": null
          }
        },
        "75a1c04145484dbebc622ce3fed31929": {
          "model_module": "@jupyter-widgets/controls",
          "model_name": "DescriptionStyleModel",
          "model_module_version": "1.5.0",
          "state": {
            "_model_module": "@jupyter-widgets/controls",
            "_model_module_version": "1.5.0",
            "_model_name": "DescriptionStyleModel",
            "_view_count": null,
            "_view_module": "@jupyter-widgets/base",
            "_view_module_version": "1.2.0",
            "_view_name": "StyleView",
            "description_width": ""
          }
        },
        "357451441abe451386b787c4056d30d5": {
          "model_module": "@jupyter-widgets/controls",
          "model_name": "HBoxModel",
          "model_module_version": "1.5.0",
          "state": {
            "_dom_classes": [],
            "_model_module": "@jupyter-widgets/controls",
            "_model_module_version": "1.5.0",
            "_model_name": "HBoxModel",
            "_view_count": null,
            "_view_module": "@jupyter-widgets/controls",
            "_view_module_version": "1.5.0",
            "_view_name": "HBoxView",
            "box_style": "",
            "children": [
              "IPY_MODEL_3c1aaf4530ee4ee5a464129f9f81d4a9",
              "IPY_MODEL_ed2d8431dce140669ea954c38478386b",
              "IPY_MODEL_51d05a6ee6aa4336b88c52fe7132d36b"
            ],
            "layout": "IPY_MODEL_588883b509bd40c99b8df0b6b35c92d9"
          }
        },
        "3c1aaf4530ee4ee5a464129f9f81d4a9": {
          "model_module": "@jupyter-widgets/controls",
          "model_name": "HTMLModel",
          "model_module_version": "1.5.0",
          "state": {
            "_dom_classes": [],
            "_model_module": "@jupyter-widgets/controls",
            "_model_module_version": "1.5.0",
            "_model_name": "HTMLModel",
            "_view_count": null,
            "_view_module": "@jupyter-widgets/controls",
            "_view_module_version": "1.5.0",
            "_view_name": "HTMLView",
            "description": "",
            "description_tooltip": null,
            "layout": "IPY_MODEL_781fa92da850452e8b5fbbe9d5588721",
            "placeholder": "​",
            "style": "IPY_MODEL_7782e30a1dea4271860efb690a324f7d",
            "value": "100%"
          }
        },
        "ed2d8431dce140669ea954c38478386b": {
          "model_module": "@jupyter-widgets/controls",
          "model_name": "FloatProgressModel",
          "model_module_version": "1.5.0",
          "state": {
            "_dom_classes": [],
            "_model_module": "@jupyter-widgets/controls",
            "_model_module_version": "1.5.0",
            "_model_name": "FloatProgressModel",
            "_view_count": null,
            "_view_module": "@jupyter-widgets/controls",
            "_view_module_version": "1.5.0",
            "_view_name": "ProgressView",
            "bar_style": "success",
            "description": "",
            "description_tooltip": null,
            "layout": "IPY_MODEL_66f4fbe5c4674f7195b9d37281dd55db",
            "max": 40456,
            "min": 0,
            "orientation": "horizontal",
            "style": "IPY_MODEL_105d689671fd46a4805e6f39b6cbfae0",
            "value": 40456
          }
        },
        "51d05a6ee6aa4336b88c52fe7132d36b": {
          "model_module": "@jupyter-widgets/controls",
          "model_name": "HTMLModel",
          "model_module_version": "1.5.0",
          "state": {
            "_dom_classes": [],
            "_model_module": "@jupyter-widgets/controls",
            "_model_module_version": "1.5.0",
            "_model_name": "HTMLModel",
            "_view_count": null,
            "_view_module": "@jupyter-widgets/controls",
            "_view_module_version": "1.5.0",
            "_view_name": "HTMLView",
            "description": "",
            "description_tooltip": null,
            "layout": "IPY_MODEL_28e55fac43c24cf786455aa4e1d9326c",
            "placeholder": "​",
            "style": "IPY_MODEL_8573dff518ac46a2b71c97376d299e2b",
            "value": " 40456/40456 [00:00&lt;00:00, 272596.03it/s]"
          }
        },
        "588883b509bd40c99b8df0b6b35c92d9": {
          "model_module": "@jupyter-widgets/base",
          "model_name": "LayoutModel",
          "model_module_version": "1.2.0",
          "state": {
            "_model_module": "@jupyter-widgets/base",
            "_model_module_version": "1.2.0",
            "_model_name": "LayoutModel",
            "_view_count": null,
            "_view_module": "@jupyter-widgets/base",
            "_view_module_version": "1.2.0",
            "_view_name": "LayoutView",
            "align_content": null,
            "align_items": null,
            "align_self": null,
            "border": null,
            "bottom": null,
            "display": null,
            "flex": null,
            "flex_flow": null,
            "grid_area": null,
            "grid_auto_columns": null,
            "grid_auto_flow": null,
            "grid_auto_rows": null,
            "grid_column": null,
            "grid_gap": null,
            "grid_row": null,
            "grid_template_areas": null,
            "grid_template_columns": null,
            "grid_template_rows": null,
            "height": null,
            "justify_content": null,
            "justify_items": null,
            "left": null,
            "margin": null,
            "max_height": null,
            "max_width": null,
            "min_height": null,
            "min_width": null,
            "object_fit": null,
            "object_position": null,
            "order": null,
            "overflow": null,
            "overflow_x": null,
            "overflow_y": null,
            "padding": null,
            "right": null,
            "top": null,
            "visibility": null,
            "width": null
          }
        },
        "781fa92da850452e8b5fbbe9d5588721": {
          "model_module": "@jupyter-widgets/base",
          "model_name": "LayoutModel",
          "model_module_version": "1.2.0",
          "state": {
            "_model_module": "@jupyter-widgets/base",
            "_model_module_version": "1.2.0",
            "_model_name": "LayoutModel",
            "_view_count": null,
            "_view_module": "@jupyter-widgets/base",
            "_view_module_version": "1.2.0",
            "_view_name": "LayoutView",
            "align_content": null,
            "align_items": null,
            "align_self": null,
            "border": null,
            "bottom": null,
            "display": null,
            "flex": null,
            "flex_flow": null,
            "grid_area": null,
            "grid_auto_columns": null,
            "grid_auto_flow": null,
            "grid_auto_rows": null,
            "grid_column": null,
            "grid_gap": null,
            "grid_row": null,
            "grid_template_areas": null,
            "grid_template_columns": null,
            "grid_template_rows": null,
            "height": null,
            "justify_content": null,
            "justify_items": null,
            "left": null,
            "margin": null,
            "max_height": null,
            "max_width": null,
            "min_height": null,
            "min_width": null,
            "object_fit": null,
            "object_position": null,
            "order": null,
            "overflow": null,
            "overflow_x": null,
            "overflow_y": null,
            "padding": null,
            "right": null,
            "top": null,
            "visibility": null,
            "width": null
          }
        },
        "7782e30a1dea4271860efb690a324f7d": {
          "model_module": "@jupyter-widgets/controls",
          "model_name": "DescriptionStyleModel",
          "model_module_version": "1.5.0",
          "state": {
            "_model_module": "@jupyter-widgets/controls",
            "_model_module_version": "1.5.0",
            "_model_name": "DescriptionStyleModel",
            "_view_count": null,
            "_view_module": "@jupyter-widgets/base",
            "_view_module_version": "1.2.0",
            "_view_name": "StyleView",
            "description_width": ""
          }
        },
        "66f4fbe5c4674f7195b9d37281dd55db": {
          "model_module": "@jupyter-widgets/base",
          "model_name": "LayoutModel",
          "model_module_version": "1.2.0",
          "state": {
            "_model_module": "@jupyter-widgets/base",
            "_model_module_version": "1.2.0",
            "_model_name": "LayoutModel",
            "_view_count": null,
            "_view_module": "@jupyter-widgets/base",
            "_view_module_version": "1.2.0",
            "_view_name": "LayoutView",
            "align_content": null,
            "align_items": null,
            "align_self": null,
            "border": null,
            "bottom": null,
            "display": null,
            "flex": null,
            "flex_flow": null,
            "grid_area": null,
            "grid_auto_columns": null,
            "grid_auto_flow": null,
            "grid_auto_rows": null,
            "grid_column": null,
            "grid_gap": null,
            "grid_row": null,
            "grid_template_areas": null,
            "grid_template_columns": null,
            "grid_template_rows": null,
            "height": null,
            "justify_content": null,
            "justify_items": null,
            "left": null,
            "margin": null,
            "max_height": null,
            "max_width": null,
            "min_height": null,
            "min_width": null,
            "object_fit": null,
            "object_position": null,
            "order": null,
            "overflow": null,
            "overflow_x": null,
            "overflow_y": null,
            "padding": null,
            "right": null,
            "top": null,
            "visibility": null,
            "width": null
          }
        },
        "105d689671fd46a4805e6f39b6cbfae0": {
          "model_module": "@jupyter-widgets/controls",
          "model_name": "ProgressStyleModel",
          "model_module_version": "1.5.0",
          "state": {
            "_model_module": "@jupyter-widgets/controls",
            "_model_module_version": "1.5.0",
            "_model_name": "ProgressStyleModel",
            "_view_count": null,
            "_view_module": "@jupyter-widgets/base",
            "_view_module_version": "1.2.0",
            "_view_name": "StyleView",
            "bar_color": null,
            "description_width": ""
          }
        },
        "28e55fac43c24cf786455aa4e1d9326c": {
          "model_module": "@jupyter-widgets/base",
          "model_name": "LayoutModel",
          "model_module_version": "1.2.0",
          "state": {
            "_model_module": "@jupyter-widgets/base",
            "_model_module_version": "1.2.0",
            "_model_name": "LayoutModel",
            "_view_count": null,
            "_view_module": "@jupyter-widgets/base",
            "_view_module_version": "1.2.0",
            "_view_name": "LayoutView",
            "align_content": null,
            "align_items": null,
            "align_self": null,
            "border": null,
            "bottom": null,
            "display": null,
            "flex": null,
            "flex_flow": null,
            "grid_area": null,
            "grid_auto_columns": null,
            "grid_auto_flow": null,
            "grid_auto_rows": null,
            "grid_column": null,
            "grid_gap": null,
            "grid_row": null,
            "grid_template_areas": null,
            "grid_template_columns": null,
            "grid_template_rows": null,
            "height": null,
            "justify_content": null,
            "justify_items": null,
            "left": null,
            "margin": null,
            "max_height": null,
            "max_width": null,
            "min_height": null,
            "min_width": null,
            "object_fit": null,
            "object_position": null,
            "order": null,
            "overflow": null,
            "overflow_x": null,
            "overflow_y": null,
            "padding": null,
            "right": null,
            "top": null,
            "visibility": null,
            "width": null
          }
        },
        "8573dff518ac46a2b71c97376d299e2b": {
          "model_module": "@jupyter-widgets/controls",
          "model_name": "DescriptionStyleModel",
          "model_module_version": "1.5.0",
          "state": {
            "_model_module": "@jupyter-widgets/controls",
            "_model_module_version": "1.5.0",
            "_model_name": "DescriptionStyleModel",
            "_view_count": null,
            "_view_module": "@jupyter-widgets/base",
            "_view_module_version": "1.2.0",
            "_view_name": "StyleView",
            "description_width": ""
          }
        },
        "283d34e3e0ee4bbdb7877101dbd8b029": {
          "model_module": "@jupyter-widgets/controls",
          "model_name": "HBoxModel",
          "model_module_version": "1.5.0",
          "state": {
            "_dom_classes": [],
            "_model_module": "@jupyter-widgets/controls",
            "_model_module_version": "1.5.0",
            "_model_name": "HBoxModel",
            "_view_count": null,
            "_view_module": "@jupyter-widgets/controls",
            "_view_module_version": "1.5.0",
            "_view_name": "HBoxView",
            "box_style": "",
            "children": [
              "IPY_MODEL_582239ade552427eaaa59a7c854c5d5a",
              "IPY_MODEL_06062f6e4e5b4ac5a9d2fd40368b084b",
              "IPY_MODEL_3a84767fb6e14075a18c638831cd9b09"
            ],
            "layout": "IPY_MODEL_a31efa499bc64596bb28ce6b2c9572a4"
          }
        },
        "582239ade552427eaaa59a7c854c5d5a": {
          "model_module": "@jupyter-widgets/controls",
          "model_name": "HTMLModel",
          "model_module_version": "1.5.0",
          "state": {
            "_dom_classes": [],
            "_model_module": "@jupyter-widgets/controls",
            "_model_module_version": "1.5.0",
            "_model_name": "HTMLModel",
            "_view_count": null,
            "_view_module": "@jupyter-widgets/controls",
            "_view_module_version": "1.5.0",
            "_view_name": "HTMLView",
            "description": "",
            "description_tooltip": null,
            "layout": "IPY_MODEL_e42357bdae194c4c940c1ee6896be9fd",
            "placeholder": "​",
            "style": "IPY_MODEL_aec16f66ae324b35bcd01bdcbe341d9b",
            "value": "100%"
          }
        },
        "06062f6e4e5b4ac5a9d2fd40368b084b": {
          "model_module": "@jupyter-widgets/controls",
          "model_name": "FloatProgressModel",
          "model_module_version": "1.5.0",
          "state": {
            "_dom_classes": [],
            "_model_module": "@jupyter-widgets/controls",
            "_model_module_version": "1.5.0",
            "_model_name": "FloatProgressModel",
            "_view_count": null,
            "_view_module": "@jupyter-widgets/controls",
            "_view_module_version": "1.5.0",
            "_view_name": "ProgressView",
            "bar_style": "success",
            "description": "",
            "description_tooltip": null,
            "layout": "IPY_MODEL_cb911f50ee9a48f4b8791fae155fb898",
            "max": 810,
            "min": 0,
            "orientation": "horizontal",
            "style": "IPY_MODEL_25d19150236149ef9ff37e7bf8217585",
            "value": 810
          }
        },
        "3a84767fb6e14075a18c638831cd9b09": {
          "model_module": "@jupyter-widgets/controls",
          "model_name": "HTMLModel",
          "model_module_version": "1.5.0",
          "state": {
            "_dom_classes": [],
            "_model_module": "@jupyter-widgets/controls",
            "_model_module_version": "1.5.0",
            "_model_name": "HTMLModel",
            "_view_count": null,
            "_view_module": "@jupyter-widgets/controls",
            "_view_module_version": "1.5.0",
            "_view_name": "HTMLView",
            "description": "",
            "description_tooltip": null,
            "layout": "IPY_MODEL_d049f7b23c324f2d8f9126642928992e",
            "placeholder": "​",
            "style": "IPY_MODEL_4ff04135e032462db6ef1b96680a0db7",
            "value": " 810/810 [09:43&lt;00:00,  1.55it/s]"
          }
        },
        "a31efa499bc64596bb28ce6b2c9572a4": {
          "model_module": "@jupyter-widgets/base",
          "model_name": "LayoutModel",
          "model_module_version": "1.2.0",
          "state": {
            "_model_module": "@jupyter-widgets/base",
            "_model_module_version": "1.2.0",
            "_model_name": "LayoutModel",
            "_view_count": null,
            "_view_module": "@jupyter-widgets/base",
            "_view_module_version": "1.2.0",
            "_view_name": "LayoutView",
            "align_content": null,
            "align_items": null,
            "align_self": null,
            "border": null,
            "bottom": null,
            "display": null,
            "flex": null,
            "flex_flow": null,
            "grid_area": null,
            "grid_auto_columns": null,
            "grid_auto_flow": null,
            "grid_auto_rows": null,
            "grid_column": null,
            "grid_gap": null,
            "grid_row": null,
            "grid_template_areas": null,
            "grid_template_columns": null,
            "grid_template_rows": null,
            "height": null,
            "justify_content": null,
            "justify_items": null,
            "left": null,
            "margin": null,
            "max_height": null,
            "max_width": null,
            "min_height": null,
            "min_width": null,
            "object_fit": null,
            "object_position": null,
            "order": null,
            "overflow": null,
            "overflow_x": null,
            "overflow_y": null,
            "padding": null,
            "right": null,
            "top": null,
            "visibility": null,
            "width": null
          }
        },
        "e42357bdae194c4c940c1ee6896be9fd": {
          "model_module": "@jupyter-widgets/base",
          "model_name": "LayoutModel",
          "model_module_version": "1.2.0",
          "state": {
            "_model_module": "@jupyter-widgets/base",
            "_model_module_version": "1.2.0",
            "_model_name": "LayoutModel",
            "_view_count": null,
            "_view_module": "@jupyter-widgets/base",
            "_view_module_version": "1.2.0",
            "_view_name": "LayoutView",
            "align_content": null,
            "align_items": null,
            "align_self": null,
            "border": null,
            "bottom": null,
            "display": null,
            "flex": null,
            "flex_flow": null,
            "grid_area": null,
            "grid_auto_columns": null,
            "grid_auto_flow": null,
            "grid_auto_rows": null,
            "grid_column": null,
            "grid_gap": null,
            "grid_row": null,
            "grid_template_areas": null,
            "grid_template_columns": null,
            "grid_template_rows": null,
            "height": null,
            "justify_content": null,
            "justify_items": null,
            "left": null,
            "margin": null,
            "max_height": null,
            "max_width": null,
            "min_height": null,
            "min_width": null,
            "object_fit": null,
            "object_position": null,
            "order": null,
            "overflow": null,
            "overflow_x": null,
            "overflow_y": null,
            "padding": null,
            "right": null,
            "top": null,
            "visibility": null,
            "width": null
          }
        },
        "aec16f66ae324b35bcd01bdcbe341d9b": {
          "model_module": "@jupyter-widgets/controls",
          "model_name": "DescriptionStyleModel",
          "model_module_version": "1.5.0",
          "state": {
            "_model_module": "@jupyter-widgets/controls",
            "_model_module_version": "1.5.0",
            "_model_name": "DescriptionStyleModel",
            "_view_count": null,
            "_view_module": "@jupyter-widgets/base",
            "_view_module_version": "1.2.0",
            "_view_name": "StyleView",
            "description_width": ""
          }
        },
        "cb911f50ee9a48f4b8791fae155fb898": {
          "model_module": "@jupyter-widgets/base",
          "model_name": "LayoutModel",
          "model_module_version": "1.2.0",
          "state": {
            "_model_module": "@jupyter-widgets/base",
            "_model_module_version": "1.2.0",
            "_model_name": "LayoutModel",
            "_view_count": null,
            "_view_module": "@jupyter-widgets/base",
            "_view_module_version": "1.2.0",
            "_view_name": "LayoutView",
            "align_content": null,
            "align_items": null,
            "align_self": null,
            "border": null,
            "bottom": null,
            "display": null,
            "flex": null,
            "flex_flow": null,
            "grid_area": null,
            "grid_auto_columns": null,
            "grid_auto_flow": null,
            "grid_auto_rows": null,
            "grid_column": null,
            "grid_gap": null,
            "grid_row": null,
            "grid_template_areas": null,
            "grid_template_columns": null,
            "grid_template_rows": null,
            "height": null,
            "justify_content": null,
            "justify_items": null,
            "left": null,
            "margin": null,
            "max_height": null,
            "max_width": null,
            "min_height": null,
            "min_width": null,
            "object_fit": null,
            "object_position": null,
            "order": null,
            "overflow": null,
            "overflow_x": null,
            "overflow_y": null,
            "padding": null,
            "right": null,
            "top": null,
            "visibility": null,
            "width": null
          }
        },
        "25d19150236149ef9ff37e7bf8217585": {
          "model_module": "@jupyter-widgets/controls",
          "model_name": "ProgressStyleModel",
          "model_module_version": "1.5.0",
          "state": {
            "_model_module": "@jupyter-widgets/controls",
            "_model_module_version": "1.5.0",
            "_model_name": "ProgressStyleModel",
            "_view_count": null,
            "_view_module": "@jupyter-widgets/base",
            "_view_module_version": "1.2.0",
            "_view_name": "StyleView",
            "bar_color": null,
            "description_width": ""
          }
        },
        "d049f7b23c324f2d8f9126642928992e": {
          "model_module": "@jupyter-widgets/base",
          "model_name": "LayoutModel",
          "model_module_version": "1.2.0",
          "state": {
            "_model_module": "@jupyter-widgets/base",
            "_model_module_version": "1.2.0",
            "_model_name": "LayoutModel",
            "_view_count": null,
            "_view_module": "@jupyter-widgets/base",
            "_view_module_version": "1.2.0",
            "_view_name": "LayoutView",
            "align_content": null,
            "align_items": null,
            "align_self": null,
            "border": null,
            "bottom": null,
            "display": null,
            "flex": null,
            "flex_flow": null,
            "grid_area": null,
            "grid_auto_columns": null,
            "grid_auto_flow": null,
            "grid_auto_rows": null,
            "grid_column": null,
            "grid_gap": null,
            "grid_row": null,
            "grid_template_areas": null,
            "grid_template_columns": null,
            "grid_template_rows": null,
            "height": null,
            "justify_content": null,
            "justify_items": null,
            "left": null,
            "margin": null,
            "max_height": null,
            "max_width": null,
            "min_height": null,
            "min_width": null,
            "object_fit": null,
            "object_position": null,
            "order": null,
            "overflow": null,
            "overflow_x": null,
            "overflow_y": null,
            "padding": null,
            "right": null,
            "top": null,
            "visibility": null,
            "width": null
          }
        },
        "4ff04135e032462db6ef1b96680a0db7": {
          "model_module": "@jupyter-widgets/controls",
          "model_name": "DescriptionStyleModel",
          "model_module_version": "1.5.0",
          "state": {
            "_model_module": "@jupyter-widgets/controls",
            "_model_module_version": "1.5.0",
            "_model_name": "DescriptionStyleModel",
            "_view_count": null,
            "_view_module": "@jupyter-widgets/base",
            "_view_module_version": "1.2.0",
            "_view_name": "StyleView",
            "description_width": ""
          }
        }
      }
    }
  },
  "nbformat_minor": 0,
  "nbformat": 4,
  "cells": [
    {
      "cell_type": "markdown",
      "source": [
        "#### Let's Begin to code."
      ],
      "metadata": {
        "id": "lls6i92NBg_x"
      }
    },
    {
      "cell_type": "markdown",
      "source": [
        "# Import Modules"
      ],
      "metadata": {
        "id": "5a_86FPtBg_x"
      }
    },
    {
      "cell_type": "code",
      "source": [
        "import os   # handling the files\n",
        "import pickle # storing numpy features\n",
        "import numpy as np\n",
        "from tqdm.notebook import tqdm # how much data is process till now\n",
        "\n",
        "from tensorflow.keras.applications.vgg16 import VGG16 , preprocess_input # extract features from image data.\n",
        "from tensorflow.keras.preprocessing.image import load_img , img_to_array\n",
        "from tensorflow.keras.preprocessing.text import Tokenizer\n",
        "from tensorflow.keras.preprocessing.sequence import pad_sequences\n",
        "from tensorflow.keras.models import Model\n",
        "from tensorflow.keras.utils import to_categorical, plot_model\n",
        "from tensorflow.keras.layers import Input , Dense , LSTM , Embedding , Dropout , add"
      ],
      "metadata": {
        "execution": {
          "iopub.status.busy": "2022-10-25T08:28:19.483244Z",
          "iopub.execute_input": "2022-10-25T08:28:19.484157Z",
          "iopub.status.idle": "2022-10-25T08:28:25.044092Z",
          "shell.execute_reply.started": "2022-10-25T08:28:19.484018Z",
          "shell.execute_reply": "2022-10-25T08:28:25.043382Z"
        },
        "trusted": true,
        "id": "AW9xtwx5Bg_y"
      },
      "execution_count": null,
      "outputs": []
    },
    {
      "cell_type": "markdown",
      "source": [
        "**os** - used to handle files using system commands.\n",
        "\n",
        "**pickle** - used to store numpy features extracted\n",
        "\n",
        "**numpy** - used to perform a wide variety of mathematical operations on arrays\n",
        "\n",
        "**tqdm** - progress bar decorator for iterators. Includes a default range iterator printing to stderr.\n",
        "\n",
        "**VGG16, preprocess_input** - imported modules for feature extraction from the image data\n",
        "\n",
        "**load_img, img_to_array** - used for loading the image and converting the image to a numpy array\n",
        "\n",
        "**Tokenizer** - used for loading the text as convert them into a token\n",
        "\n",
        "**pad_sequences** - used for equal distribution of words in sentences filling the remaining spaces with zeros\n",
        "\n",
        "**plot_model** - used to visualize the architecture of the model through different images"
      ],
      "metadata": {
        "id": "hW2h8bzsBg_2"
      }
    },
    {
      "cell_type": "markdown",
      "source": [
        "#### Now we must set the directories to use the data"
      ],
      "metadata": {
        "id": "dJXVg-fQBg_3"
      }
    },
    {
      "cell_type": "code",
      "source": [
        "BASE_DIR = '/content/Flicker8k_Dataset'\n",
        "WORKING_DIR = '/content'"
      ],
      "metadata": {
        "execution": {
          "iopub.status.busy": "2022-10-25T08:28:25.047438Z",
          "iopub.execute_input": "2022-10-25T08:28:25.047643Z",
          "iopub.status.idle": "2022-10-25T08:28:25.055958Z",
          "shell.execute_reply.started": "2022-10-25T08:28:25.047618Z",
          "shell.execute_reply": "2022-10-25T08:28:25.055098Z"
        },
        "trusted": true,
        "id": "mPd1WxhHBg_4"
      },
      "execution_count": null,
      "outputs": []
    },
    {
      "cell_type": "markdown",
      "source": [
        "# Extract Image Features\n",
        "\n",
        "We have to load and restructure the model\n",
        "\n",
        "VGG-16 is a convolutional neural network that is 16 layers deep. You can load a pretrained version of the network trained on more than a million images from the ImageNet database [1]. The pretrained network can classify images into 1000 object categories, such as keyboard, mouse, pencil, and many animals."
      ],
      "metadata": {
        "id": "aler_Z6FBg_5"
      }
    },
    {
      "cell_type": "code",
      "source": [
        "# Load vgg16 Model\n",
        "model = VGG16()\n",
        "\n",
        "# restructure model\n",
        "model = Model(inputs = model.inputs , outputs = model.layers[-2].output)\n",
        "\n",
        "# Summerize\n",
        "print(model.summary())"
      ],
      "metadata": {
        "execution": {
          "iopub.status.busy": "2022-10-25T08:28:25.05736Z",
          "iopub.execute_input": "2022-10-25T08:28:25.057787Z",
          "iopub.status.idle": "2022-10-25T08:28:31.504659Z",
          "shell.execute_reply.started": "2022-10-25T08:28:25.057745Z",
          "shell.execute_reply": "2022-10-25T08:28:31.503852Z"
        },
        "trusted": true,
        "colab": {
          "base_uri": "https://localhost:8080/"
        },
        "id": "W17oJVIOBg_6",
        "outputId": "42d4f591-cf8d-45a4-b3d2-f81e007b75b4"
      },
      "execution_count": null,
      "outputs": [
        {
          "output_type": "stream",
          "name": "stdout",
          "text": [
            "Downloading data from https://storage.googleapis.com/tensorflow/keras-applications/vgg16/vgg16_weights_tf_dim_ordering_tf_kernels.h5\n",
            "553467096/553467096 [==============================] - 25s 0us/step\n",
            "Model: \"model\"\n",
            "_________________________________________________________________\n",
            " Layer (type)                Output Shape              Param #   \n",
            "=================================================================\n",
            " input_1 (InputLayer)        [(None, 224, 224, 3)]     0         \n",
            "                                                                 \n",
            " block1_conv1 (Conv2D)       (None, 224, 224, 64)      1792      \n",
            "                                                                 \n",
            " block1_conv2 (Conv2D)       (None, 224, 224, 64)      36928     \n",
            "                                                                 \n",
            " block1_pool (MaxPooling2D)  (None, 112, 112, 64)      0         \n",
            "                                                                 \n",
            " block2_conv1 (Conv2D)       (None, 112, 112, 128)     73856     \n",
            "                                                                 \n",
            " block2_conv2 (Conv2D)       (None, 112, 112, 128)     147584    \n",
            "                                                                 \n",
            " block2_pool (MaxPooling2D)  (None, 56, 56, 128)       0         \n",
            "                                                                 \n",
            " block3_conv1 (Conv2D)       (None, 56, 56, 256)       295168    \n",
            "                                                                 \n",
            " block3_conv2 (Conv2D)       (None, 56, 56, 256)       590080    \n",
            "                                                                 \n",
            " block3_conv3 (Conv2D)       (None, 56, 56, 256)       590080    \n",
            "                                                                 \n",
            " block3_pool (MaxPooling2D)  (None, 28, 28, 256)       0         \n",
            "                                                                 \n",
            " block4_conv1 (Conv2D)       (None, 28, 28, 512)       1180160   \n",
            "                                                                 \n",
            " block4_conv2 (Conv2D)       (None, 28, 28, 512)       2359808   \n",
            "                                                                 \n",
            " block4_conv3 (Conv2D)       (None, 28, 28, 512)       2359808   \n",
            "                                                                 \n",
            " block4_pool (MaxPooling2D)  (None, 14, 14, 512)       0         \n",
            "                                                                 \n",
            " block5_conv1 (Conv2D)       (None, 14, 14, 512)       2359808   \n",
            "                                                                 \n",
            " block5_conv2 (Conv2D)       (None, 14, 14, 512)       2359808   \n",
            "                                                                 \n",
            " block5_conv3 (Conv2D)       (None, 14, 14, 512)       2359808   \n",
            "                                                                 \n",
            " block5_pool (MaxPooling2D)  (None, 7, 7, 512)         0         \n",
            "                                                                 \n",
            " flatten (Flatten)           (None, 25088)             0         \n",
            "                                                                 \n",
            " fc1 (Dense)                 (None, 4096)              102764544 \n",
            "                                                                 \n",
            " fc2 (Dense)                 (None, 4096)              16781312  \n",
            "                                                                 \n",
            "=================================================================\n",
            "Total params: 134,260,544\n",
            "Trainable params: 134,260,544\n",
            "Non-trainable params: 0\n",
            "_________________________________________________________________\n",
            "None\n"
          ]
        }
      ]
    },
    {
      "cell_type": "markdown",
      "source": [
        "+ Fully connected layer of the VGG16 model is not needed, just the previous layers to extract feature results.\n",
        "\n",
        "+ By preference you may include more layers, but for quicker results avoid adding the unnecessary layers."
      ],
      "metadata": {
        "id": "9JDURxbFBg_7"
      }
    },
    {
      "cell_type": "markdown",
      "source": [
        "# extract the image features\n",
        "Now we extract the image features and load the data for preprocess"
      ],
      "metadata": {
        "id": "7_03fC-DBg_7"
      }
    },
    {
      "cell_type": "code",
      "source": [
        "!wget -q https://github.com/jbrownlee/Datasets/releases/download/Flickr8k/Flickr8k_Dataset.zip\n",
        "!wget -q https://github.com/jbrownlee/Datasets/releases/download/Flickr8k/Flickr8k_text.zip\n",
        "!unzip -qq Flickr8k_Dataset.zip\n",
        "!unzip -qq Flickr8k_text.zip\n",
        "!rm Flickr8k_Dataset.zip Flickr8k_text.zip"
      ],
      "metadata": {
        "id": "nrlkEKlLCvNx"
      },
      "execution_count": null,
      "outputs": []
    },
    {
      "cell_type": "code",
      "source": [
        "# extract features from image\n",
        "features = {}\n",
        "directory = os.path.join(BASE_DIR)\n",
        "\n",
        "for img_name in tqdm(os.listdir(directory)):\n",
        "    # load the image from file\n",
        "    img_path = directory + '/' + img_name\n",
        "    image = load_img(img_path, target_size=(224, 224))\n",
        "    # convert image pixels to numpy array\n",
        "    image = img_to_array(image)\n",
        "    # reshape data for model\n",
        "    image = image.reshape((1, image.shape[0], image.shape[1], image.shape[2]))\n",
        "    # preprocess image for vgg\n",
        "    image = preprocess_input(image)\n",
        "    # extract features\n",
        "    feature = model.predict(image, verbose=0)\n",
        "    # get image ID\n",
        "    image_id = img_name.split('.')[0]\n",
        "    # store feature\n",
        "    features[image_id] = feature"
      ],
      "metadata": {
        "execution": {
          "iopub.status.busy": "2022-10-25T08:28:31.506513Z",
          "iopub.execute_input": "2022-10-25T08:28:31.506838Z",
          "iopub.status.idle": "2022-10-25T08:36:45.745715Z",
          "shell.execute_reply.started": "2022-10-25T08:28:31.506798Z",
          "shell.execute_reply": "2022-10-25T08:36:45.745023Z"
        },
        "trusted": true,
        "colab": {
          "base_uri": "https://localhost:8080/",
          "height": 49,
          "referenced_widgets": [
            "09aa0b65056648d8af190b26de3ddd5f",
            "877cc4dd34a04083a67fec0033489351",
            "65bf0fd955704f6b84ae6bc440463ffd",
            "316a489d84ef4b8d90b4265f09705b23",
            "35b12ec6830a4d7fb1a13b6286745b7a",
            "105d420c8a5044a4ae60f3e7069552e4",
            "60eb1d039822409bbd7ec6dd93108d28",
            "a628f87691e5496f929fabceb5158e99",
            "fdbbdefd4d664f7fae1d6463b4990e06",
            "e63491d4266b46d096e70f3cd9629666",
            "75a1c04145484dbebc622ce3fed31929"
          ]
        },
        "id": "Bp5agzpzBg_7",
        "outputId": "d0d3c537-545f-4f2f-dde2-beefc2f622a8"
      },
      "execution_count": null,
      "outputs": [
        {
          "output_type": "display_data",
          "data": {
            "text/plain": [
              "  0%|          | 0/8091 [00:00<?, ?it/s]"
            ],
            "application/vnd.jupyter.widget-view+json": {
              "version_major": 2,
              "version_minor": 0,
              "model_id": "09aa0b65056648d8af190b26de3ddd5f"
            }
          },
          "metadata": {}
        }
      ]
    },
    {
      "cell_type": "markdown",
      "source": [
        "Dictionary 'features' is created and will be loaded with the extracted features of image data\n",
        "\n",
        "**load_img(img_path, target_size=(224, 224))** - custom dimension to resize the image when loaded to the array\n",
        "\n",
        "**image.reshape((1, image.shape[0], image.shape[1], image.shape[2]))** - reshaping the image data to preprocess in a RGB type image.\n",
        "\n",
        "**model.predict(image, verbose=0)** - extraction of features from the image\n",
        "\n",
        "**img_name.split('.')[0]** - split of the image name from the extension to load only the image name."
      ],
      "metadata": {
        "id": "wQ3LJegLBg_8"
      }
    },
    {
      "cell_type": "code",
      "source": [
        "# store features in pickle\n",
        "pickle.dump(features, open(os.path.join(WORKING_DIR, 'features.pkl'), 'wb'))"
      ],
      "metadata": {
        "execution": {
          "iopub.status.busy": "2022-10-25T08:36:45.746917Z",
          "iopub.execute_input": "2022-10-25T08:36:45.748716Z",
          "iopub.status.idle": "2022-10-25T08:36:46.085215Z",
          "shell.execute_reply.started": "2022-10-25T08:36:45.748677Z",
          "shell.execute_reply": "2022-10-25T08:36:46.08444Z"
        },
        "trusted": true,
        "id": "yDnM_6zOBg_9"
      },
      "execution_count": null,
      "outputs": []
    },
    {
      "cell_type": "markdown",
      "source": [
        "Extracted features are not stored in the disk, so re-extraction of features can extend running time\n",
        "\n",
        "Dumps and store your dictionary in a pickle for reloading it to save time"
      ],
      "metadata": {
        "id": "fPN7O-JPBg_9"
      }
    },
    {
      "cell_type": "code",
      "source": [
        "# load features from pickle\n",
        "with open(os.path.join(WORKING_DIR, 'features.pkl'), 'rb') as f:\n",
        "    features = pickle.load(f)"
      ],
      "metadata": {
        "execution": {
          "iopub.status.busy": "2022-10-25T08:36:46.08648Z",
          "iopub.execute_input": "2022-10-25T08:36:46.086819Z",
          "iopub.status.idle": "2022-10-25T08:36:46.249147Z",
          "shell.execute_reply.started": "2022-10-25T08:36:46.086773Z",
          "shell.execute_reply": "2022-10-25T08:36:46.248386Z"
        },
        "trusted": true,
        "id": "Cy7K5YNrBg_-"
      },
      "execution_count": null,
      "outputs": []
    },
    {
      "cell_type": "markdown",
      "source": [
        "Load all your stored feature data to your project for quicker runtime"
      ],
      "metadata": {
        "id": "PjLOhRvDBg__"
      }
    },
    {
      "cell_type": "markdown",
      "source": [
        "## Load the Captions Data\n",
        "\n",
        "Let us store the captions data from the text file"
      ],
      "metadata": {
        "id": "Jjzlh7mgBg__"
      }
    },
    {
      "cell_type": "code",
      "source": [
        "with open('/content/captions.txt', 'r') as f:\n",
        "    next(f)\n",
        "    captions_doc = f.read()"
      ],
      "metadata": {
        "execution": {
          "iopub.status.busy": "2022-10-25T08:36:46.251763Z",
          "iopub.execute_input": "2022-10-25T08:36:46.252053Z",
          "iopub.status.idle": "2022-10-25T08:36:46.301755Z",
          "shell.execute_reply.started": "2022-10-25T08:36:46.252013Z",
          "shell.execute_reply": "2022-10-25T08:36:46.301006Z"
        },
        "trusted": true,
        "id": "9ZQMK_xGBg__"
      },
      "execution_count": null,
      "outputs": []
    },
    {
      "cell_type": "markdown",
      "source": [
        "### Now we split and append the captions data with the image"
      ],
      "metadata": {
        "id": "yiX1Axg4BhAA"
      }
    },
    {
      "cell_type": "code",
      "source": [
        "# create mapping of image to captions\n",
        "mapping = {}\n",
        "# process lines\n",
        "for line in tqdm(captions_doc.split('\\n')):\n",
        "    # split the line by comma(,)\n",
        "    tokens = line.split(',')\n",
        "    if len(line) < 2:\n",
        "        continue\n",
        "    image_id, caption = tokens[0], tokens[1:]\n",
        "    # remove extension from image ID\n",
        "    image_id = image_id.split('.')[0]\n",
        "    # convert caption list to string\n",
        "    caption = \" \".join(caption)\n",
        "    # create list if needed\n",
        "    if image_id not in mapping:\n",
        "        mapping[image_id] = []\n",
        "    # store the caption\n",
        "    mapping[image_id].append(caption)"
      ],
      "metadata": {
        "execution": {
          "iopub.status.busy": "2022-10-25T08:36:46.302984Z",
          "iopub.execute_input": "2022-10-25T08:36:46.30334Z",
          "iopub.status.idle": "2022-10-25T08:36:46.425087Z",
          "shell.execute_reply.started": "2022-10-25T08:36:46.303303Z",
          "shell.execute_reply": "2022-10-25T08:36:46.424233Z"
        },
        "trusted": true,
        "colab": {
          "base_uri": "https://localhost:8080/",
          "height": 49,
          "referenced_widgets": [
            "357451441abe451386b787c4056d30d5",
            "3c1aaf4530ee4ee5a464129f9f81d4a9",
            "ed2d8431dce140669ea954c38478386b",
            "51d05a6ee6aa4336b88c52fe7132d36b",
            "588883b509bd40c99b8df0b6b35c92d9",
            "781fa92da850452e8b5fbbe9d5588721",
            "7782e30a1dea4271860efb690a324f7d",
            "66f4fbe5c4674f7195b9d37281dd55db",
            "105d689671fd46a4805e6f39b6cbfae0",
            "28e55fac43c24cf786455aa4e1d9326c",
            "8573dff518ac46a2b71c97376d299e2b"
          ]
        },
        "id": "02fSwXTCBhAA",
        "outputId": "9d6958c2-3a57-43d4-e7aa-23b37b65d961"
      },
      "execution_count": null,
      "outputs": [
        {
          "output_type": "display_data",
          "data": {
            "text/plain": [
              "  0%|          | 0/40456 [00:00<?, ?it/s]"
            ],
            "application/vnd.jupyter.widget-view+json": {
              "version_major": 2,
              "version_minor": 0,
              "model_id": "357451441abe451386b787c4056d30d5"
            }
          },
          "metadata": {}
        }
      ]
    },
    {
      "cell_type": "markdown",
      "source": [
        "+ Dictionary 'mapping' is created with key as image_id and values as the corresponding caption text\n",
        "\n",
        "+ Same image may have multiple captions, **if image_id not in mapping: mapping[image_id] = []** creates a list for appending captions to the corresponding image"
      ],
      "metadata": {
        "id": "TjKTRQwWBhAB"
      }
    },
    {
      "cell_type": "markdown",
      "source": [
        "#### Now let us see the no. of images loaded"
      ],
      "metadata": {
        "id": "XWSIzy0UBhAB"
      }
    },
    {
      "cell_type": "code",
      "source": [
        "len(mapping)"
      ],
      "metadata": {
        "execution": {
          "iopub.status.busy": "2022-10-25T08:36:46.426404Z",
          "iopub.execute_input": "2022-10-25T08:36:46.427289Z",
          "iopub.status.idle": "2022-10-25T08:36:46.43505Z",
          "shell.execute_reply.started": "2022-10-25T08:36:46.42725Z",
          "shell.execute_reply": "2022-10-25T08:36:46.43438Z"
        },
        "trusted": true,
        "colab": {
          "base_uri": "https://localhost:8080/"
        },
        "id": "axNTVsqGBhAC",
        "outputId": "bbfc9462-231f-4cef-d0b5-a19836e8c961"
      },
      "execution_count": null,
      "outputs": [
        {
          "output_type": "execute_result",
          "data": {
            "text/plain": [
              "8091"
            ]
          },
          "metadata": {},
          "execution_count": 26
        }
      ]
    },
    {
      "cell_type": "markdown",
      "source": [
        "# Preprocess Text Data"
      ],
      "metadata": {
        "id": "OGso_shvBhAC"
      }
    },
    {
      "cell_type": "code",
      "source": [
        "def clean(mapping):\n",
        "    for key, captions in mapping.items():\n",
        "        for i in range(len(captions)):\n",
        "            # take one caption at a time\n",
        "            caption = captions[i]\n",
        "            # preprocessing steps\n",
        "            # convert to lowercase\n",
        "            caption = caption.lower()\n",
        "            # delete digits, special chars, etc.,\n",
        "            caption = caption.replace('[^A-Za-z]', '')\n",
        "            # delete additional spaces\n",
        "            caption = caption.replace('\\s+', ' ')\n",
        "            # add start and end tags to the caption\n",
        "            caption = 'startseq ' + \" \".join([word for word in caption.split() if len(word)>1]) + ' endseq'\n",
        "            captions[i] = caption"
      ],
      "metadata": {
        "execution": {
          "iopub.status.busy": "2022-10-25T08:36:46.438245Z",
          "iopub.execute_input": "2022-10-25T08:36:46.43898Z",
          "iopub.status.idle": "2022-10-25T08:36:46.44655Z",
          "shell.execute_reply.started": "2022-10-25T08:36:46.438943Z",
          "shell.execute_reply": "2022-10-25T08:36:46.445702Z"
        },
        "trusted": true,
        "id": "sIjJnRIQBhAC"
      },
      "execution_count": null,
      "outputs": []
    },
    {
      "cell_type": "markdown",
      "source": [
        "Defined to clean and convert the text for quicker process and better results"
      ],
      "metadata": {
        "id": "sD4OJbgbBhAD"
      }
    },
    {
      "cell_type": "markdown",
      "source": [
        "Let us visualize the text **before** and **after** cleaning"
      ],
      "metadata": {
        "id": "vXctbsd5BhAD"
      }
    },
    {
      "cell_type": "code",
      "source": [
        "# before preprocess of text\n",
        "mapping['1000268201_693b08cb0e']"
      ],
      "metadata": {
        "execution": {
          "iopub.status.busy": "2022-10-25T08:36:46.44765Z",
          "iopub.execute_input": "2022-10-25T08:36:46.448294Z",
          "iopub.status.idle": "2022-10-25T08:36:46.457901Z",
          "shell.execute_reply.started": "2022-10-25T08:36:46.448251Z",
          "shell.execute_reply": "2022-10-25T08:36:46.457088Z"
        },
        "trusted": true,
        "colab": {
          "base_uri": "https://localhost:8080/"
        },
        "id": "IRYjLFmABhAE",
        "outputId": "38883deb-d622-4230-c1df-9919049ca14c"
      },
      "execution_count": null,
      "outputs": [
        {
          "output_type": "execute_result",
          "data": {
            "text/plain": [
              "['startseq child in pink dress is climbing up set of stairs in an entry way endseq',\n",
              " 'startseq girl going into wooden building endseq',\n",
              " 'startseq little girl climbing into wooden playhouse endseq',\n",
              " 'startseq little girl climbing the stairs to her playhouse endseq',\n",
              " 'startseq little girl in pink dress going into wooden cabin endseq']"
            ]
          },
          "metadata": {},
          "execution_count": 31
        }
      ]
    },
    {
      "cell_type": "code",
      "source": [
        "# preprocess the text\n",
        "clean(mapping)"
      ],
      "metadata": {
        "execution": {
          "iopub.status.busy": "2022-10-25T08:36:46.459857Z",
          "iopub.execute_input": "2022-10-25T08:36:46.460073Z",
          "iopub.status.idle": "2022-10-25T08:36:46.593062Z",
          "shell.execute_reply.started": "2022-10-25T08:36:46.460043Z",
          "shell.execute_reply": "2022-10-25T08:36:46.592436Z"
        },
        "trusted": true,
        "id": "oGOH-v1aBhAE"
      },
      "execution_count": null,
      "outputs": []
    },
    {
      "cell_type": "code",
      "source": [
        "# after preprocess of text\n",
        "mapping['1000268201_693b08cb0e']"
      ],
      "metadata": {
        "execution": {
          "iopub.status.busy": "2022-10-25T08:36:46.594196Z",
          "iopub.execute_input": "2022-10-25T08:36:46.594438Z",
          "iopub.status.idle": "2022-10-25T08:36:46.599199Z",
          "shell.execute_reply.started": "2022-10-25T08:36:46.594401Z",
          "shell.execute_reply": "2022-10-25T08:36:46.598558Z"
        },
        "trusted": true,
        "colab": {
          "base_uri": "https://localhost:8080/"
        },
        "id": "QtedS9gQBhAF",
        "outputId": "80c7cb86-a248-43b0-e70e-5d08e093c4ae"
      },
      "execution_count": null,
      "outputs": [
        {
          "output_type": "execute_result",
          "data": {
            "text/plain": [
              "['startseq startseq child in pink dress is climbing up set of stairs in an entry way endseq endseq',\n",
              " 'startseq startseq girl going into wooden building endseq endseq',\n",
              " 'startseq startseq little girl climbing into wooden playhouse endseq endseq',\n",
              " 'startseq startseq little girl climbing the stairs to her playhouse endseq endseq',\n",
              " 'startseq startseq little girl in pink dress going into wooden cabin endseq endseq']"
            ]
          },
          "metadata": {},
          "execution_count": 33
        }
      ]
    },
    {
      "cell_type": "markdown",
      "source": [
        "#### Next we will store the preprocessed captions into a list"
      ],
      "metadata": {
        "id": "MYu1gDfKBhAF"
      }
    },
    {
      "cell_type": "code",
      "source": [
        "all_captions = []\n",
        "for key in mapping:\n",
        "    for caption in mapping[key]:\n",
        "        all_captions.append(caption)"
      ],
      "metadata": {
        "execution": {
          "iopub.status.busy": "2022-10-25T08:36:46.600321Z",
          "iopub.execute_input": "2022-10-25T08:36:46.600702Z",
          "iopub.status.idle": "2022-10-25T08:36:46.617779Z",
          "shell.execute_reply.started": "2022-10-25T08:36:46.600668Z",
          "shell.execute_reply": "2022-10-25T08:36:46.61713Z"
        },
        "trusted": true,
        "id": "WVFwn8s4BhAG"
      },
      "execution_count": null,
      "outputs": []
    },
    {
      "cell_type": "code",
      "source": [
        "len(all_captions)"
      ],
      "metadata": {
        "execution": {
          "iopub.status.busy": "2022-10-25T08:36:46.619921Z",
          "iopub.execute_input": "2022-10-25T08:36:46.620295Z",
          "iopub.status.idle": "2022-10-25T08:36:46.631238Z",
          "shell.execute_reply.started": "2022-10-25T08:36:46.620262Z",
          "shell.execute_reply": "2022-10-25T08:36:46.630438Z"
        },
        "trusted": true,
        "colab": {
          "base_uri": "https://localhost:8080/"
        },
        "id": "3BIrdNcjBhAG",
        "outputId": "e086ba99-e4e8-46c3-ef1c-8e621cd25bc8"
      },
      "execution_count": null,
      "outputs": [
        {
          "output_type": "execute_result",
          "data": {
            "text/plain": [
              "40455"
            ]
          },
          "metadata": {},
          "execution_count": 35
        }
      ]
    },
    {
      "cell_type": "markdown",
      "source": [
        "No. of unique captions stored"
      ],
      "metadata": {
        "id": "lUjv8EDdBhAH"
      }
    },
    {
      "cell_type": "markdown",
      "source": [
        "# 10 Captions\n",
        "Let us see the first ten captions"
      ],
      "metadata": {
        "id": "_097DNLHBhAH"
      }
    },
    {
      "cell_type": "code",
      "source": [
        "all_captions[:10]"
      ],
      "metadata": {
        "execution": {
          "iopub.status.busy": "2022-10-25T08:36:46.634305Z",
          "iopub.execute_input": "2022-10-25T08:36:46.634551Z",
          "iopub.status.idle": "2022-10-25T08:36:46.641973Z",
          "shell.execute_reply.started": "2022-10-25T08:36:46.634509Z",
          "shell.execute_reply": "2022-10-25T08:36:46.641224Z"
        },
        "trusted": true,
        "colab": {
          "base_uri": "https://localhost:8080/"
        },
        "id": "6faSN5H7BhAI",
        "outputId": "2ae48e6d-7ab7-4327-a4a1-a8d60d8b9bea"
      },
      "execution_count": null,
      "outputs": [
        {
          "output_type": "execute_result",
          "data": {
            "text/plain": [
              "['startseq startseq child in pink dress is climbing up set of stairs in an entry way endseq endseq',\n",
              " 'startseq startseq girl going into wooden building endseq endseq',\n",
              " 'startseq startseq little girl climbing into wooden playhouse endseq endseq',\n",
              " 'startseq startseq little girl climbing the stairs to her playhouse endseq endseq',\n",
              " 'startseq startseq little girl in pink dress going into wooden cabin endseq endseq',\n",
              " 'startseq startseq black dog and spotted dog are fighting endseq endseq',\n",
              " 'startseq startseq black dog and tri-colored dog playing with each other on the road endseq endseq',\n",
              " 'startseq startseq black dog and white dog with brown spots are staring at each other in the street endseq endseq',\n",
              " 'startseq startseq two dogs of different breeds looking at each other on the road endseq endseq',\n",
              " 'startseq startseq two dogs on pavement moving toward each other endseq endseq']"
            ]
          },
          "metadata": {},
          "execution_count": 36
        }
      ]
    },
    {
      "cell_type": "markdown",
      "source": [
        "# Processing of Text Data\n",
        "Now we start processing the text data"
      ],
      "metadata": {
        "id": "V54zQDv_BhAR"
      }
    },
    {
      "cell_type": "code",
      "source": [
        "# tokenize the text\n",
        "tokenizer = Tokenizer()\n",
        "tokenizer.fit_on_texts(all_captions)\n",
        "vocab_size = len(tokenizer.word_index) + 1"
      ],
      "metadata": {
        "execution": {
          "iopub.status.busy": "2022-10-25T08:36:46.64326Z",
          "iopub.execute_input": "2022-10-25T08:36:46.643504Z",
          "iopub.status.idle": "2022-10-25T08:36:47.238979Z",
          "shell.execute_reply.started": "2022-10-25T08:36:46.643474Z",
          "shell.execute_reply": "2022-10-25T08:36:47.238084Z"
        },
        "trusted": true,
        "id": "I2IOWKd3BhAS"
      },
      "execution_count": null,
      "outputs": []
    },
    {
      "cell_type": "code",
      "source": [
        "vocab_size"
      ],
      "metadata": {
        "execution": {
          "iopub.status.busy": "2022-10-25T08:36:47.240394Z",
          "iopub.execute_input": "2022-10-25T08:36:47.240685Z",
          "iopub.status.idle": "2022-10-25T08:36:47.246678Z",
          "shell.execute_reply.started": "2022-10-25T08:36:47.240625Z",
          "shell.execute_reply": "2022-10-25T08:36:47.24559Z"
        },
        "trusted": true,
        "colab": {
          "base_uri": "https://localhost:8080/"
        },
        "id": "yVuci_tLBhAS",
        "outputId": "2f4dd6fa-d543-4be7-8281-7b054a5a8908"
      },
      "execution_count": null,
      "outputs": [
        {
          "output_type": "execute_result",
          "data": {
            "text/plain": [
              "8485"
            ]
          },
          "metadata": {},
          "execution_count": 38
        }
      ]
    },
    {
      "cell_type": "markdown",
      "source": [
        "No. of unique words"
      ],
      "metadata": {
        "id": "TFTC5y3jBhAS"
      }
    },
    {
      "cell_type": "code",
      "source": [
        "# get maximum length of the caption available\n",
        "max_length = max(len(caption.split()) for caption in all_captions)\n",
        "max_length"
      ],
      "metadata": {
        "execution": {
          "iopub.status.busy": "2022-10-25T08:36:47.248432Z",
          "iopub.execute_input": "2022-10-25T08:36:47.248698Z",
          "iopub.status.idle": "2022-10-25T08:36:47.286034Z",
          "shell.execute_reply.started": "2022-10-25T08:36:47.248664Z",
          "shell.execute_reply": "2022-10-25T08:36:47.285384Z"
        },
        "trusted": true,
        "colab": {
          "base_uri": "https://localhost:8080/"
        },
        "id": "IZgUkzsiBhAT",
        "outputId": "17535c76-b27a-44af-ab74-39d2d4b38e20"
      },
      "execution_count": null,
      "outputs": [
        {
          "output_type": "execute_result",
          "data": {
            "text/plain": [
              "37"
            ]
          },
          "metadata": {},
          "execution_count": 39
        }
      ]
    },
    {
      "cell_type": "markdown",
      "source": [
        "+ Finding the maximum length of the captions, used for reference for the padding sequence."
      ],
      "metadata": {
        "id": "vevksz7WBhAT"
      }
    },
    {
      "cell_type": "markdown",
      "source": [
        "# Train Test Split"
      ],
      "metadata": {
        "id": "gHiJIpEDBhAT"
      }
    },
    {
      "cell_type": "markdown",
      "source": [
        "#### After preprocessing the data now we will train, test and split"
      ],
      "metadata": {
        "id": "-IeD7H8ABhAT"
      }
    },
    {
      "cell_type": "code",
      "source": [
        "image_ids = list(mapping.keys())\n",
        "split = int(len(image_ids) * 0.90)\n",
        "train = image_ids[:split]\n",
        "test = image_ids[split:]"
      ],
      "metadata": {
        "execution": {
          "iopub.status.busy": "2022-10-25T08:36:47.287282Z",
          "iopub.execute_input": "2022-10-25T08:36:47.287517Z",
          "iopub.status.idle": "2022-10-25T08:36:47.293013Z",
          "shell.execute_reply.started": "2022-10-25T08:36:47.287485Z",
          "shell.execute_reply": "2022-10-25T08:36:47.292049Z"
        },
        "trusted": true,
        "id": "Oqdj9idjBhAU"
      },
      "execution_count": null,
      "outputs": []
    },
    {
      "cell_type": "markdown",
      "source": [
        "**Now we will define a batch and include the padding sequence**"
      ],
      "metadata": {
        "id": "eb6J2fNvBhAU"
      }
    },
    {
      "cell_type": "code",
      "source": [
        "# create data generator to get data in batch (avoids session crash)\n",
        "def data_generator(data_keys, mapping, features, tokenizer, max_length, vocab_size, batch_size):\n",
        "    # loop over images\n",
        "    X1, X2, y = list(), list(), list()\n",
        "    n = 0\n",
        "    while 1:\n",
        "        for key in data_keys:\n",
        "            n += 1\n",
        "            captions = mapping[key]\n",
        "            # process each caption\n",
        "            for caption in captions:\n",
        "                # encode the sequence\n",
        "                seq = tokenizer.texts_to_sequences([caption])[0]\n",
        "                # split the sequence into X, y pairs\n",
        "                for i in range(1, len(seq)):\n",
        "                    # split into input and output pairs\n",
        "                    in_seq, out_seq = seq[:i], seq[i]\n",
        "                    # pad input sequence\n",
        "                    in_seq = pad_sequences([in_seq], maxlen=max_length)[0]\n",
        "                    # encode output sequence\n",
        "                    out_seq = to_categorical([out_seq],num_classes=vocab_size)[0]\n",
        "                    # store the sequences\n",
        "                    X1.append(features[key][0])\n",
        "                    X2.append(in_seq)\n",
        "                    y.append(out_seq)\n",
        "            if n == batch_size:\n",
        "                X1, X2, y = np.array(X1), np.array(X2), np.array(y)\n",
        "                yield [X1, X2], y\n",
        "                X1, X2, y = list(), list(), list()\n",
        "                n = 0"
      ],
      "metadata": {
        "execution": {
          "iopub.status.busy": "2022-10-25T08:36:47.29455Z",
          "iopub.execute_input": "2022-10-25T08:36:47.294869Z",
          "iopub.status.idle": "2022-10-25T08:36:47.304955Z",
          "shell.execute_reply.started": "2022-10-25T08:36:47.294834Z",
          "shell.execute_reply": "2022-10-25T08:36:47.303947Z"
        },
        "trusted": true,
        "id": "vTHjsW9CBhAU"
      },
      "execution_count": null,
      "outputs": []
    },
    {
      "cell_type": "markdown",
      "source": [
        "Padding sequence normalizes the size of all captions to the max size filling them with zeros for better results."
      ],
      "metadata": {
        "id": "VaiMmQVrBhAU"
      }
    },
    {
      "cell_type": "markdown",
      "source": [
        "# Model Creation"
      ],
      "metadata": {
        "id": "KR05GbN0BhAV"
      }
    },
    {
      "cell_type": "code",
      "source": [
        "# encoder model\n",
        "# image feature layers\n",
        "inputs1 = Input(shape=(4096,))\n",
        "fe1 = Dropout(0.4)(inputs1)\n",
        "fe2 = Dense(256, activation='relu')(fe1)\n",
        "# sequence feature layers\n",
        "inputs2 = Input(shape=(max_length,))\n",
        "se1 = Embedding(vocab_size, 256, mask_zero=True)(inputs2)\n",
        "se2 = Dropout(0.4)(se1)\n",
        "se3 = LSTM(256)(se2)\n",
        "\n",
        "# decoder model\n",
        "decoder1 = add([fe2, se3])\n",
        "decoder2 = Dense(256, activation='relu')(decoder1)\n",
        "outputs = Dense(vocab_size, activation='softmax')(decoder2)\n",
        "\n",
        "model = Model(inputs=[inputs1, inputs2], outputs=outputs)\n",
        "model.compile(loss='categorical_crossentropy', optimizer='adam')\n",
        "\n",
        "# plot the model\n",
        "plot_model(model, show_shapes=True)"
      ],
      "metadata": {
        "execution": {
          "iopub.status.busy": "2022-10-25T08:36:47.30636Z",
          "iopub.execute_input": "2022-10-25T08:36:47.30663Z",
          "iopub.status.idle": "2022-10-25T08:36:49.354727Z",
          "shell.execute_reply.started": "2022-10-25T08:36:47.306597Z",
          "shell.execute_reply": "2022-10-25T08:36:49.353898Z"
        },
        "trusted": true,
        "colab": {
          "base_uri": "https://localhost:8080/",
          "height": 754
        },
        "id": "K2RW1qljBhAV",
        "outputId": "b57d5b2b-4843-4b82-bc3f-1df7506d76c3"
      },
      "execution_count": null,
      "outputs": [
        {
          "output_type": "execute_result",
          "data": {
            "image/png": "[encoded data removed]",
            "text/plain": [
              "<IPython.core.display.Image object>"
            ]
          },
          "metadata": {},
          "execution_count": 42
        }
      ]
    },
    {
      "cell_type": "markdown",
      "source": [
        "+ **shape=(4096,)** - output length of the features from the VGG model\n",
        "\n",
        "+ **Dense** - single dimension linear layer array\n",
        "\n",
        "+ **Dropout()** - used to add regularization to the data, avoiding over fitting & dropping out a fraction of the data from the layers\n",
        "\n",
        "+ **model.compile()** - compilation of the model\n",
        "\n",
        "+ **loss=’sparse_categorical_crossentropy’** - loss function for category outputs\n",
        "\n",
        "+ **optimizer=’adam’** - automatically adjust the learning rate for the model over the no. of epochs\n",
        "\n",
        "+ Model plot shows the concatenation of the inputs and outputs into a single layer\n",
        "\n",
        "+ Feature extraction of image was already done using VGG, no CNN model was needed in this step."
      ],
      "metadata": {
        "id": "MTGDaE3kBhAV"
      }
    },
    {
      "cell_type": "markdown",
      "source": [
        "# Train Model\n",
        "Now let us train the model"
      ],
      "metadata": {
        "id": "xzo-KAkGBhAV"
      }
    },
    {
      "cell_type": "code",
      "source": [
        "# train the model\n",
        "epochs = 20\n",
        "batch_size = 32\n",
        "steps = len(train) // batch_size\n",
        "\n",
        "for i in range(epochs):\n",
        "    # create data generator\n",
        "    generator = data_generator(train, mapping, features, tokenizer, max_length, vocab_size, batch_size)\n",
        "    # fit for one epoch\n",
        "    model.fit(generator, epochs=1, steps_per_epoch=steps, verbose=1)"
      ],
      "metadata": {
        "execution": {
          "iopub.status.busy": "2022-10-25T08:36:49.35648Z",
          "iopub.execute_input": "2022-10-25T08:36:49.357113Z",
          "iopub.status.idle": "2022-10-25T08:59:49.163172Z",
          "shell.execute_reply.started": "2022-10-25T08:36:49.357075Z",
          "shell.execute_reply": "2022-10-25T08:59:49.162465Z"
        },
        "trusted": true,
        "colab": {
          "base_uri": "https://localhost:8080/"
        },
        "id": "w-JMLgpIBhAW",
        "outputId": "ab636c76-b041-4d52-b15e-5346146513bf"
      },
      "execution_count": null,
      "outputs": [
        {
          "output_type": "stream",
          "name": "stdout",
          "text": [
            "227/227 [==============================] - 97s 398ms/step - loss: 4.4959\n",
            "227/227 [==============================] - 72s 316ms/step - loss: 3.4344\n",
            "227/227 [==============================] - 72s 316ms/step - loss: 3.0848\n",
            "227/227 [==============================] - 72s 317ms/step - loss: 2.8608\n",
            "227/227 [==============================] - 73s 321ms/step - loss: 2.6941\n",
            "227/227 [==============================] - 69s 305ms/step - loss: 2.5689\n",
            "227/227 [==============================] - 72s 317ms/step - loss: 2.4667\n",
            "227/227 [==============================] - 71s 313ms/step - loss: 2.3849\n",
            "227/227 [==============================] - 74s 324ms/step - loss: 2.3173\n",
            "227/227 [==============================] - 73s 322ms/step - loss: 2.2556\n",
            "227/227 [==============================] - 74s 323ms/step - loss: 2.2018\n",
            "227/227 [==============================] - 74s 328ms/step - loss: 2.1551\n",
            "227/227 [==============================] - 73s 319ms/step - loss: 2.1083\n",
            "227/227 [==============================] - 72s 317ms/step - loss: 2.0724\n",
            "227/227 [==============================] - 73s 322ms/step - loss: 2.0388\n",
            "227/227 [==============================] - 71s 312ms/step - loss: 2.0077\n",
            "227/227 [==============================] - 72s 316ms/step - loss: 1.9794\n",
            "227/227 [==============================] - 72s 318ms/step - loss: 1.9543\n",
            "227/227 [==============================] - 73s 322ms/step - loss: 1.9297\n",
            "227/227 [==============================] - 73s 322ms/step - loss: 1.9062\n"
          ]
        }
      ]
    },
    {
      "cell_type": "markdown",
      "source": [
        "+ **steps = len(train) // batch_size** - back propagation and fetch the next data\n",
        "\n",
        "+ Loss decreases gradually over the iterations\n",
        "\n",
        "+ Increase the no. of epochs for better results\n",
        "\n",
        "+ Assign the no. of epochs and batch size accordingly for quicker results\n",
        "\n",
        "\n",
        "### You can save the model in the working directory for reuse"
      ],
      "metadata": {
        "id": "2xCj11aOBhAW"
      }
    },
    {
      "cell_type": "code",
      "source": [
        "# save the model\n",
        "model.save(WORKING_DIR+'/best_model.h5')"
      ],
      "metadata": {
        "execution": {
          "iopub.status.busy": "2022-10-25T08:59:49.166371Z",
          "iopub.execute_input": "2022-10-25T08:59:49.166744Z",
          "iopub.status.idle": "2022-10-25T08:59:49.298439Z",
          "shell.execute_reply.started": "2022-10-25T08:59:49.166715Z",
          "shell.execute_reply": "2022-10-25T08:59:49.297669Z"
        },
        "trusted": true,
        "id": "KF72BxqaBhAW"
      },
      "execution_count": null,
      "outputs": []
    },
    {
      "cell_type": "markdown",
      "source": [
        "# Generate Captions for the Image"
      ],
      "metadata": {
        "id": "k8Rei2wHBhAX"
      }
    },
    {
      "cell_type": "code",
      "source": [
        "def idx_to_word(integer, tokenizer):\n",
        "    for word, index in tokenizer.word_index.items():\n",
        "        if index == integer:\n",
        "            return word\n",
        "    return None"
      ],
      "metadata": {
        "execution": {
          "iopub.status.busy": "2022-10-25T08:59:49.299818Z",
          "iopub.execute_input": "2022-10-25T08:59:49.300279Z",
          "iopub.status.idle": "2022-10-25T08:59:49.305951Z",
          "shell.execute_reply.started": "2022-10-25T08:59:49.300238Z",
          "shell.execute_reply": "2022-10-25T08:59:49.305226Z"
        },
        "trusted": true,
        "id": "pP8UzzbzBhAX"
      },
      "execution_count": null,
      "outputs": []
    },
    {
      "cell_type": "markdown",
      "source": [
        "+ Convert the predicted index from the model into a word"
      ],
      "metadata": {
        "id": "xBBvKdZ0BhAX"
      }
    },
    {
      "cell_type": "code",
      "source": [
        "# generate caption for an image\n",
        "def predict_caption(model, image, tokenizer, max_length):\n",
        "    # add start tag for generation process\n",
        "    in_text = 'startseq'\n",
        "    # iterate over the max length of sequence\n",
        "    for i in range(max_length):\n",
        "        # encode input sequence\n",
        "        sequence = tokenizer.texts_to_sequences([in_text])[0]\n",
        "        # pad the sequence\n",
        "        sequence = pad_sequences([sequence], max_length)\n",
        "        # predict next word\n",
        "        yhat = model.predict([image, sequence], verbose=0)\n",
        "        # get index with high probability\n",
        "        yhat = np.argmax(yhat)\n",
        "        # convert index to word\n",
        "        word = idx_to_word(yhat, tokenizer)\n",
        "        # stop if word not found\n",
        "        if word is None:\n",
        "            break\n",
        "        # append word as input for generating next word\n",
        "        in_text += \" \" + word\n",
        "        # stop if we reach end tag\n",
        "        if word == 'endseq':\n",
        "            break\n",
        "    return in_text"
      ],
      "metadata": {
        "execution": {
          "iopub.status.busy": "2022-10-25T08:59:49.307396Z",
          "iopub.execute_input": "2022-10-25T08:59:49.307653Z",
          "iopub.status.idle": "2022-10-25T08:59:49.317604Z",
          "shell.execute_reply.started": "2022-10-25T08:59:49.307612Z",
          "shell.execute_reply": "2022-10-25T08:59:49.316801Z"
        },
        "trusted": true,
        "id": "ZKA5Tb5CBhAX"
      },
      "execution_count": null,
      "outputs": []
    },
    {
      "cell_type": "markdown",
      "source": [
        "+ Captiongenerator appending all the words for an image\n",
        "\n",
        "+ The caption starts with 'startseq' and the model continues to predict the caption until the 'endseq' appeared"
      ],
      "metadata": {
        "id": "8sJvPMajBhAY"
      }
    },
    {
      "cell_type": "markdown",
      "source": [
        "# Model Validation\n",
        "Now we validate the data using BLEU Score"
      ],
      "metadata": {
        "id": "qqXKXeERBhAY"
      }
    },
    {
      "cell_type": "code",
      "source": [
        "from nltk.translate.bleu_score import corpus_bleu\n",
        "# validate with test data\n",
        "actual, predicted = list(), list()\n",
        "\n",
        "for key in tqdm(test):\n",
        "    # get actual caption\n",
        "    captions = mapping[key]\n",
        "    # predict the caption for image\n",
        "    y_pred = predict_caption(model, features[key], tokenizer, max_length)\n",
        "    # split into words\n",
        "    actual_captions = [caption.split() for caption in captions]\n",
        "    y_pred = y_pred.split()\n",
        "    # append to the list\n",
        "    actual.append(actual_captions)\n",
        "    predicted.append(y_pred)\n",
        "# calcuate BLEU score\n",
        "print(\"BLEU-1: %f\" % corpus_bleu(actual, predicted, weights=(1.0, 0, 0, 0)))\n",
        "print(\"BLEU-2: %f\" % corpus_bleu(actual, predicted, weights=(0.5, 0.5, 0, 0)))\n"
      ],
      "metadata": {
        "execution": {
          "iopub.status.busy": "2022-10-25T08:59:49.318852Z",
          "iopub.execute_input": "2022-10-25T08:59:49.319138Z",
          "iopub.status.idle": "2022-10-25T09:05:46.414803Z",
          "shell.execute_reply.started": "2022-10-25T08:59:49.319106Z",
          "shell.execute_reply": "2022-10-25T09:05:46.413909Z"
        },
        "trusted": true,
        "colab": {
          "base_uri": "https://localhost:8080/",
          "height": 84,
          "referenced_widgets": [
            "283d34e3e0ee4bbdb7877101dbd8b029",
            "582239ade552427eaaa59a7c854c5d5a",
            "06062f6e4e5b4ac5a9d2fd40368b084b",
            "3a84767fb6e14075a18c638831cd9b09",
            "a31efa499bc64596bb28ce6b2c9572a4",
            "e42357bdae194c4c940c1ee6896be9fd",
            "aec16f66ae324b35bcd01bdcbe341d9b",
            "cb911f50ee9a48f4b8791fae155fb898",
            "25d19150236149ef9ff37e7bf8217585",
            "d049f7b23c324f2d8f9126642928992e",
            "4ff04135e032462db6ef1b96680a0db7"
          ]
        },
        "id": "JyixpfTxBhAY",
        "outputId": "399fe495-021c-4ab8-ab95-777b1b6e9bb5"
      },
      "execution_count": null,
      "outputs": [
        {
          "output_type": "display_data",
          "data": {
            "text/plain": [
              "  0%|          | 0/810 [00:00<?, ?it/s]"
            ],
            "application/vnd.jupyter.widget-view+json": {
              "version_major": 2,
              "version_minor": 0,
              "model_id": "283d34e3e0ee4bbdb7877101dbd8b029"
            }
          },
          "metadata": {}
        },
        {
          "output_type": "stream",
          "name": "stdout",
          "text": [
            "BLEU-1: 0.569423\n",
            "BLEU-2: 0.381602\n"
          ]
        }
      ]
    },
    {
      "cell_type": "markdown",
      "source": [
        "+ BLEU Score is used to evaluate the predicted text against a reference text, in a list of tokens.\n",
        "\n",
        "+ The reference text contains all the words appended from the captions data (actual_captions)\n",
        "\n",
        "+ A BLEU Score more than **0.4 is considered a good result**, for a better score increase the no. of epochs accordingly."
      ],
      "metadata": {
        "id": "ul4DlpsuBhAY"
      }
    },
    {
      "cell_type": "markdown",
      "source": [
        "## Visualize the Results"
      ],
      "metadata": {
        "id": "Xz5f-Y3cBhAZ"
      }
    },
    {
      "cell_type": "code",
      "source": [
        "from PIL import Image\n",
        "import matplotlib.pyplot as plt\n",
        "def generate_caption(image_name):\n",
        "    # load the image\n",
        "    # image_name = \"1001773457_577c3a7d70.jpg\"\n",
        "    image_id = image_name.split('.')[0]\n",
        "    img_path = os.path.join(BASE_DIR, \"Images\", image_name)\n",
        "    image = Image.open(img_path)\n",
        "    captions = mapping[image_id]\n",
        "    print('---------------------Actual---------------------')\n",
        "    for caption in captions:\n",
        "        print(caption)\n",
        "    # predict the caption\n",
        "    y_pred = predict_caption(model, features[image_id], tokenizer, max_length)\n",
        "    print('--------------------Predicted--------------------')\n",
        "    print(y_pred)\n",
        "    plt.imshow(image)"
      ],
      "metadata": {
        "execution": {
          "iopub.status.busy": "2022-10-25T09:05:46.418475Z",
          "iopub.execute_input": "2022-10-25T09:05:46.418681Z",
          "iopub.status.idle": "2022-10-25T09:05:46.425676Z",
          "shell.execute_reply.started": "2022-10-25T09:05:46.418656Z",
          "shell.execute_reply": "2022-10-25T09:05:46.424857Z"
        },
        "trusted": true,
        "id": "uEJSeWpVBhAZ"
      },
      "execution_count": null,
      "outputs": []
    },
    {
      "cell_type": "markdown",
      "source": [
        "+ Image caption generator defined\n",
        "\n",
        "+ First prints the actual captions of the image then prints a predicted caption of the image"
      ],
      "metadata": {
        "id": "9kw3_pauBhAZ"
      }
    },
    {
      "cell_type": "code",
      "source": [
        "generate_caption(\"1001773457_577c3a7d70.jpg\")"
      ],
      "metadata": {
        "execution": {
          "iopub.status.busy": "2022-10-25T09:05:46.426759Z",
          "iopub.execute_input": "2022-10-25T09:05:46.427476Z",
          "iopub.status.idle": "2022-10-25T09:05:47.14768Z",
          "shell.execute_reply.started": "2022-10-25T09:05:46.427439Z",
          "shell.execute_reply": "2022-10-25T09:05:47.143756Z"
        },
        "trusted": true,
        "id": "MT4qsV3kBhAa"
      },
      "execution_count": null,
      "outputs": []
    },
    {
      "cell_type": "code",
      "source": [
        "generate_caption(\"1002674143_1b742ab4b8.jpg\")"
      ],
      "metadata": {
        "execution": {
          "iopub.status.busy": "2022-10-25T09:05:47.14905Z",
          "iopub.execute_input": "2022-10-25T09:05:47.149803Z",
          "iopub.status.idle": "2022-10-25T09:05:47.951665Z",
          "shell.execute_reply.started": "2022-10-25T09:05:47.14977Z",
          "shell.execute_reply": "2022-10-25T09:05:47.951003Z"
        },
        "trusted": true,
        "id": "PV4KNKd-BhAa"
      },
      "execution_count": null,
      "outputs": []
    },
    {
      "cell_type": "code",
      "source": [
        "generate_caption(\"101669240_b2d3e7f17b.jpg\")"
      ],
      "metadata": {
        "execution": {
          "iopub.status.busy": "2022-10-25T09:05:47.952994Z",
          "iopub.execute_input": "2022-10-25T09:05:47.953513Z",
          "iopub.status.idle": "2022-10-25T09:05:48.403588Z",
          "shell.execute_reply.started": "2022-10-25T09:05:47.953475Z",
          "shell.execute_reply": "2022-10-25T09:05:48.403012Z"
        },
        "trusted": true,
        "id": "0ITuDcxwBhAa"
      },
      "execution_count": null,
      "outputs": []
    },
    {
      "cell_type": "markdown",
      "source": [
        "# Final Thoughts\n",
        "\n",
        "+ Training the model by increasing the no. of epochs can give better and more accurate results.\n",
        "\n",
        "+ Processing large amount of data can take a lot of time and system resource.\n",
        "\n",
        "+ The no. of layers of the model can be increased if you want to process large dataset like flickr32k.\n",
        "\n",
        "\n",
        "\n",
        "**In this project , we have built an Image Caption Generator exploring the Flickr Dataset as an advanced deep learning project using different models from image extraction and text based processing.**"
      ],
      "metadata": {
        "id": "HAWtNrb6BhAa"
      }
    },
    {
      "cell_type": "code",
      "source": [],
      "metadata": {
        "id": "YritKZeBBhAb"
      },
      "execution_count": null,
      "outputs": []
    },
    {
      "cell_type": "code",
      "source": [],
      "metadata": {
        "id": "s9-p6JHeBhAb"
      },
      "execution_count": null,
      "outputs": []
    }
  ]
}